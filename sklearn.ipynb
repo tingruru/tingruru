{
  "nbformat": 4,
  "nbformat_minor": 0,
  "metadata": {
    "colab": {
      "provenance": [],
      "authorship_tag": "ABX9TyOkyymg1k15Qag3ESPaO+YJ",
      "include_colab_link": true
    },
    "kernelspec": {
      "name": "python3",
      "display_name": "Python 3"
    },
    "language_info": {
      "name": "python"
    }
  },
  "cells": [
    {
      "cell_type": "markdown",
      "metadata": {
        "id": "view-in-github",
        "colab_type": "text"
      },
      "source": [
        "<a href=\"https://colab.research.google.com/github/tingruru/tingruru/blob/main/sklearn.ipynb\" target=\"_parent\"><img src=\"https://colab.research.google.com/assets/colab-badge.svg\" alt=\"Open In Colab\"/></a>"
      ]
    },
    {
      "cell_type": "code",
      "execution_count": 1,
      "metadata": {
        "colab": {
          "base_uri": "https://localhost:8080/"
        },
        "id": "4JQGzFv3eL1S",
        "outputId": "bf7a6b17-62e7-4b14-bc13-e9b50460a0bb"
      },
      "outputs": [
        {
          "output_type": "stream",
          "name": "stdout",
          "text": [
            "Looking in indexes: https://pypi.org/simple, https://us-python.pkg.dev/colab-wheels/public/simple/\n",
            "Collecting sklearn\n",
            "  Downloading sklearn-0.0.post1.tar.gz (3.6 kB)\n",
            "Building wheels for collected packages: sklearn\n",
            "  Building wheel for sklearn (setup.py) ... \u001b[?25l\u001b[?25hdone\n",
            "  Created wheel for sklearn: filename=sklearn-0.0.post1-py3-none-any.whl size=2344 sha256=64162940e725a48a072dc6bf196aa5dcfa4314361696d837adfbcf93aed7c047\n",
            "  Stored in directory: /root/.cache/pip/wheels/42/56/cc/4a8bf86613aafd5b7f1b310477667c1fca5c51c3ae4124a003\n",
            "Successfully built sklearn\n",
            "Installing collected packages: sklearn\n",
            "Successfully installed sklearn-0.0.post1\n"
          ]
        }
      ],
      "source": [
        "pip install sklearn"
      ]
    },
    {
      "cell_type": "code",
      "source": [
        "pip install panda"
      ],
      "metadata": {
        "colab": {
          "base_uri": "https://localhost:8080/"
        },
        "id": "awmvu7i2eVMn",
        "outputId": "7581a720-82ec-4ece-dc98-c80c98d42e2e"
      },
      "execution_count": 2,
      "outputs": [
        {
          "output_type": "stream",
          "name": "stdout",
          "text": [
            "Looking in indexes: https://pypi.org/simple, https://us-python.pkg.dev/colab-wheels/public/simple/\n",
            "Collecting panda\n",
            "  Downloading panda-0.3.1.tar.gz (5.8 kB)\n",
            "Requirement already satisfied: setuptools in /usr/local/lib/python3.7/dist-packages (from panda) (57.4.0)\n",
            "Requirement already satisfied: requests in /usr/local/lib/python3.7/dist-packages (from panda) (2.23.0)\n",
            "Requirement already satisfied: chardet<4,>=3.0.2 in /usr/local/lib/python3.7/dist-packages (from requests->panda) (3.0.4)\n",
            "Requirement already satisfied: certifi>=2017.4.17 in /usr/local/lib/python3.7/dist-packages (from requests->panda) (2022.9.24)\n",
            "Requirement already satisfied: urllib3!=1.25.0,!=1.25.1,<1.26,>=1.21.1 in /usr/local/lib/python3.7/dist-packages (from requests->panda) (1.24.3)\n",
            "Requirement already satisfied: idna<3,>=2.5 in /usr/local/lib/python3.7/dist-packages (from requests->panda) (2.10)\n",
            "Building wheels for collected packages: panda\n",
            "  Building wheel for panda (setup.py) ... \u001b[?25l\u001b[?25hdone\n",
            "  Created wheel for panda: filename=panda-0.3.1-py3-none-any.whl size=7256 sha256=1bcffda35d58a0851de601124fe7a8ecdff0a026f8e7b6abb2672939146566ea\n",
            "  Stored in directory: /root/.cache/pip/wheels/e6/3d/81/a3665ce657d35359ca337b1db2975dbe5cd281a88b8982f6b6\n",
            "Successfully built panda\n",
            "Installing collected packages: panda\n",
            "Successfully installed panda-0.3.1\n"
          ]
        }
      ]
    },
    {
      "cell_type": "code",
      "source": [
        "pip install joblib"
      ],
      "metadata": {
        "colab": {
          "base_uri": "https://localhost:8080/"
        },
        "id": "vIf4dzhWearg",
        "outputId": "0050bec1-a37d-48c4-981d-9a58152e3003"
      },
      "execution_count": 3,
      "outputs": [
        {
          "output_type": "stream",
          "name": "stdout",
          "text": [
            "Looking in indexes: https://pypi.org/simple, https://us-python.pkg.dev/colab-wheels/public/simple/\n",
            "Requirement already satisfied: joblib in /usr/local/lib/python3.7/dist-packages (1.2.0)\n"
          ]
        }
      ]
    },
    {
      "cell_type": "code",
      "source": [
        "pip install numpy"
      ],
      "metadata": {
        "colab": {
          "base_uri": "https://localhost:8080/"
        },
        "id": "yKRNwikXf4ZL",
        "outputId": "ba875a97-615e-4309-8563-bad4dca4dd05"
      },
      "execution_count": 5,
      "outputs": [
        {
          "output_type": "stream",
          "name": "stdout",
          "text": [
            "Looking in indexes: https://pypi.org/simple, https://us-python.pkg.dev/colab-wheels/public/simple/\n",
            "Requirement already satisfied: numpy in /usr/local/lib/python3.7/dist-packages (1.21.6)\n"
          ]
        }
      ]
    },
    {
      "cell_type": "code",
      "source": [
        "pip install matplotlib"
      ],
      "metadata": {
        "colab": {
          "base_uri": "https://localhost:8080/"
        },
        "id": "PdFzxw4-gJyp",
        "outputId": "f9fbba20-9c09-456e-f8dc-dee2d1c77d20"
      },
      "execution_count": 7,
      "outputs": [
        {
          "output_type": "stream",
          "name": "stdout",
          "text": [
            "Looking in indexes: https://pypi.org/simple, https://us-python.pkg.dev/colab-wheels/public/simple/\n",
            "Requirement already satisfied: matplotlib in /usr/local/lib/python3.7/dist-packages (3.2.2)\n",
            "Requirement already satisfied: numpy>=1.11 in /usr/local/lib/python3.7/dist-packages (from matplotlib) (1.21.6)\n",
            "Requirement already satisfied: python-dateutil>=2.1 in /usr/local/lib/python3.7/dist-packages (from matplotlib) (2.8.2)\n",
            "Requirement already satisfied: pyparsing!=2.0.4,!=2.1.2,!=2.1.6,>=2.0.1 in /usr/local/lib/python3.7/dist-packages (from matplotlib) (3.0.9)\n",
            "Requirement already satisfied: cycler>=0.10 in /usr/local/lib/python3.7/dist-packages (from matplotlib) (0.11.0)\n",
            "Requirement already satisfied: kiwisolver>=1.0.1 in /usr/local/lib/python3.7/dist-packages (from matplotlib) (1.4.4)\n",
            "Requirement already satisfied: typing-extensions in /usr/local/lib/python3.7/dist-packages (from kiwisolver>=1.0.1->matplotlib) (4.1.1)\n",
            "Requirement already satisfied: six>=1.5 in /usr/local/lib/python3.7/dist-packages (from python-dateutil>=2.1->matplotlib) (1.15.0)\n"
          ]
        }
      ]
    },
    {
      "cell_type": "code",
      "source": [
        "import pandas as pd\n",
        "import numpy as np\n",
        "import matplotlib.pyplot as plt\n",
        "from sklearn.model_selection import train_test_split\n",
        "from sklearn.preprocessing import StandardScaler,MinMaxScaler\n",
        "from sklearn.linear_model import LinearRegression,SGDRegressor\n",
        "from sklearn.metrics import mean_squared_error\n",
        "\n"
      ],
      "metadata": {
        "id": "3k2gATH1gV0K"
      },
      "execution_count": 11,
      "outputs": []
    },
    {
      "cell_type": "code",
      "source": [
        "data = pd.read_csv(\"https://raw.githubusercontent.com/hwweiCOAIPP/test/main/SimpleWeather.csv\", header = 0, sep = \",\")"
      ],
      "metadata": {
        "id": "MUcmxmB4sniJ"
      },
      "execution_count": 50,
      "outputs": []
    },
    {
      "cell_type": "code",
      "source": [
        "target=data.values[1::1,1]"
      ],
      "metadata": {
        "id": "twdrAjpftsQn"
      },
      "execution_count": 56,
      "outputs": []
    },
    {
      "cell_type": "code",
      "source": [
        "print(data)"
      ],
      "metadata": {
        "colab": {
          "base_uri": "https://localhost:8080/"
        },
        "id": "6zlZKKdrta04",
        "outputId": "3b822786-4ced-4c24-8c01-6ef28b71a63c"
      },
      "execution_count": 68,
      "outputs": [
        {
          "output_type": "stream",
          "name": "stdout",
          "text": [
            "       Unnamed: 0  Temperature (C)  Apparent Temperature (C)  Humidity  \\\n",
            "0               0         9.472222                  7.388889      0.89   \n",
            "1               1         9.355556                  7.227778      0.86   \n",
            "2               2         9.377778                  9.377778      0.89   \n",
            "3               3         8.288889                  5.944444      0.83   \n",
            "4               4         8.755556                  6.977778      0.83   \n",
            "...           ...              ...                       ...       ...   \n",
            "96448       96448        26.016667                 26.016667      0.43   \n",
            "96449       96449        24.583333                 24.583333      0.48   \n",
            "96450       96450        22.038889                 22.038889      0.56   \n",
            "96451       96451        21.522222                 21.522222      0.60   \n",
            "96452       96452        20.438889                 20.438889      0.61   \n",
            "\n",
            "       Wind Speed (km/h)  Wind Bearing (degrees)  Visibility (km)  \\\n",
            "0                14.1197                   251.0          15.8263   \n",
            "1                14.2646                   259.0          15.8263   \n",
            "2                 3.9284                   204.0          14.9569   \n",
            "3                14.1036                   269.0          15.8263   \n",
            "4                11.0446                   259.0          15.8263   \n",
            "...                  ...                     ...              ...   \n",
            "96448            10.9963                    31.0          16.1000   \n",
            "96449            10.0947                    20.0          15.5526   \n",
            "96450             8.9838                    30.0          16.1000   \n",
            "96451            10.5294                    20.0          16.1000   \n",
            "96452             5.8765                    39.0          15.5204   \n",
            "\n",
            "       Pressure (millibars)  \n",
            "0                   1015.13  \n",
            "1                   1015.63  \n",
            "2                   1015.94  \n",
            "3                   1016.41  \n",
            "4                   1016.51  \n",
            "...                     ...  \n",
            "96448               1014.36  \n",
            "96449               1015.16  \n",
            "96450               1015.66  \n",
            "96451               1015.95  \n",
            "96452               1016.16  \n",
            "\n",
            "[96453 rows x 8 columns]\n"
          ]
        }
      ]
    },
    {
      "cell_type": "code",
      "source": [
        "data = data.dropna()"
      ],
      "metadata": {
        "id": "zTAtFI011VNN"
      },
      "execution_count": 65,
      "outputs": []
    },
    {
      "cell_type": "code",
      "source": [
        "X = data.drop([\"Temperature (C)\"], axis=1) \n",
        "y = data[\"Temperature (C)\"]"
      ],
      "metadata": {
        "id": "UsU_-MTU0hwG"
      },
      "execution_count": 73,
      "outputs": []
    },
    {
      "cell_type": "code",
      "source": [
        "X_train, X_test, y_train, y_test = train_test_split(X, y, test_size=0.25, random_state=6)\n"
      ],
      "metadata": {
        "id": "z3qIWFY6ofb0"
      },
      "execution_count": 74,
      "outputs": []
    },
    {
      "cell_type": "code",
      "source": [
        "print(X_train.shape)\n",
        "print(X_test.shape)\n",
        "std_Xtrain=StandardScaler().fit_transform(X_train)\n",
        "std_Xtest=StandardScaler().fit_transform(X_test)\n",
        "std_ytrain=StandardScaler().fit_transform(y_train.array.reshape(-1, 1))\n",
        "std_ytest=StandardScaler().fit_transform(y_test.array.reshape(-1, 1))"
      ],
      "metadata": {
        "colab": {
          "base_uri": "https://localhost:8080/"
        },
        "id": "3VnMJnsu2PuJ",
        "outputId": "bc1c4508-526c-44df-f500-1da29eb0eb84"
      },
      "execution_count": 83,
      "outputs": [
        {
          "output_type": "stream",
          "name": "stdout",
          "text": [
            "(72339, 7)\n",
            "(24114, 7)\n"
          ]
        }
      ]
    },
    {
      "cell_type": "code",
      "source": [
        "LR=LinearRegression()\n",
        "LR.fit(std_Xtrain,std_ytrain)\n",
        "print('the value of default measurement of linear regression',\n",
        "      LR.score(std_Xtrain,std_ytrain))\n",
        "train_pred=LR.predict(std_Xtrain)\n",
        "test_pred=LR.predict(std_Xtest)"
      ],
      "metadata": {
        "colab": {
          "base_uri": "https://localhost:8080/"
        },
        "id": "dxIl062u9-aF",
        "outputId": "2f1248c3-990b-41ca-b216-7bebebdad180"
      },
      "execution_count": 86,
      "outputs": [
        {
          "output_type": "stream",
          "name": "stdout",
          "text": [
            "the value of default measurement of linear regression 0.9901653470856919\n"
          ]
        }
      ]
    },
    {
      "cell_type": "code",
      "source": [
        "print('MSE train:%.3f,test:%.3f'%(mean_squared_error(std_ytrain,train_pred)\n",
        "                                  ,mean_squared_error(std_ytest,test_pred)))"
      ],
      "metadata": {
        "colab": {
          "base_uri": "https://localhost:8080/"
        },
        "id": "JlDavIJt_Q1M",
        "outputId": "a70d7262-f775-4b6d-bef3-c5467e2fa3c2"
      },
      "execution_count": 88,
      "outputs": [
        {
          "output_type": "stream",
          "name": "stdout",
          "text": [
            "MSE train:0.010,test:0.010\n"
          ]
        }
      ]
    }
  ]
}